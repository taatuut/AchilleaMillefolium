{
 "cells": [
  {
   "cell_type": "code",
   "execution_count": null,
   "metadata": {},
   "outputs": [],
   "source": [
    "import folium\n",
    "mymap = folium.Map(location = [52.155499, 5.387740], \n",
    "                   width = 950, \n",
    "                   height = 550,\n",
    "                   zoom_start = 12, \n",
    "                   tiles = 'openstreetmap')\n",
    "folium.TileLayer('Stamen Terrain').add_to(mymap)\n",
    "folium.TileLayer('Stamen Toner').add_to(mymap)\n",
    "folium.TileLayer('Stamen Water Color').add_to(mymap)\n",
    "folium.TileLayer('cartodbpositron').add_to(mymap)\n",
    "folium.TileLayer('cartodbdark_matter').add_to(mymap)\n",
    "folium.LayerControl().add_to(mymap)\n",
    "import pandas as pd\n",
    "df = pd.read_csv('Data/stations_NL.csv',sep=\";\")\n",
    "display(df)\n",
    "for lat, lng, name in zip(df['latitude'], df['longitude'], df['name']):    \n",
    "    # station = folium.CircleMarker(\n",
    "    #         location=[lat, lng],\n",
    "    #         radius=8,\n",
    "    #         color='red',\n",
    "    #         fill=True,\n",
    "    #         fill_color='yellow',\n",
    "    #         fill_opacity=0.5)   \n",
    "    # station.add_to(mymap)\n",
    "    \n",
    "    station_name = folium.Marker(\n",
    "            location=[lat, lng],\n",
    "            popup = name,            \n",
    "        )   \n",
    "    station_name.add_to(mymap)\n",
    "mymap"
   ]
  },
  {
   "cell_type": "markdown",
   "metadata": {},
   "source": [
    "OLV Kerk Amersfoort coordinates\n",
    "`mymap = folium.Map(location = [52.155499, 5.387740],`\n",
    "\n",
    "Singapore (default coordinates from article)\n",
    "`mymap = folium.Map(location = [1.366623, 103.821285], `"
   ]
  }
 ],
 "metadata": {
  "interpreter": {
   "hash": "aee8b7b246df8f9039afb4144a1f6fd8d2ca17a180786b69acc140d282b71a49"
  },
  "kernelspec": {
   "display_name": "Python 3.9.7 64-bit",
   "language": "python",
   "name": "python3"
  },
  "language_info": {
   "codemirror_mode": {
    "name": "ipython",
    "version": 3
   },
   "file_extension": ".py",
   "mimetype": "text/x-python",
   "name": "python",
   "nbconvert_exporter": "python",
   "pygments_lexer": "ipython3",
   "version": "3.9.7"
  },
  "orig_nbformat": 4
 },
 "nbformat": 4,
 "nbformat_minor": 2
}

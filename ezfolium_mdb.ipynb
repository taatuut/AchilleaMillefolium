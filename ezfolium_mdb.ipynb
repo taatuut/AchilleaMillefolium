{
 "cells": [
  {
   "cell_type": "markdown",
   "metadata": {},
   "source": [
    "# AchilleaMillefolium\n",
    "Playground for folium and movingpandas and mongodb (atlas)\n",
    "\n",
    "DONE:\n",
    "* folium\n",
    "* mongodb\n",
    "\n",
    "TODO:\n",
    "* movingpandas\n",
    "\n",
    "The online articles and information that inspired this repository are listed in [README.md]"
   ]
  },
  {
   "cell_type": "markdown",
   "metadata": {},
   "source": [
    "# Setup\n",
    "Assumes a running mongodb database environment somewhere (local, Atlas) with a database containing a COllection with spatial data.\n",
    "\n",
    "The code currently needs minimum of `longitude`, `latitude` (in WGS84 / EPSG:4326) and a `name` attribute.\n",
    "\n",
    "Assumes Python modules `pandas`, `folium`, `pymongo`, `jupyter` and `pipreqs` installed.\n",
    "\n",
    "Created on `macOS Big Sur` but could be used without much adaption on Linux and Windows too.\n",
    "\n",
    "```\n",
    "python3 -m pip install --upgrade pip\n",
    "python3 -m pip install folium pandas pymongo jupyter pipreqs\n",
    "```\n",
    "Create `requirements.txt` with `pipreqs . --force`."
   ]
  },
  {
   "cell_type": "markdown",
   "metadata": {},
   "source": [
    "# Data\n",
    "https://github.com/trainline-eu/stations/blob/master/stations.csv\n",
    "\n",
    "Created `stations_NL.csv` by selecting NL stations from `stations.csv` with values for latitude and longitude fields because notebook errors with `ValueError: Location values cannot contain NaNs` when coordinates are missing so now only kept stations with coordinates (lazy...).\n",
    "\n",
    "Import into local MongoDB.\n",
    "`mongoimport --db=assets --drop --collection=stations --type=csv --headerline --file=Data/stations_NL.csv`\n",
    "\n",
    "Using OLV Kerk Amersfoort coordinates as starting position for the map.\n",
    "`mymap = folium.Map(location = [52.155499, 5.387740],`"
   ]
  },
  {
   "cell_type": "markdown",
   "metadata": {},
   "source": [
    "# Run\n",
    "Create Jupyter notebook `ezfolium_mdb.ipynb` (this notebook).\n",
    "\n",
    "In this code the default start location is changed, and using NL Stations data, you can swap for your own."
   ]
  },
  {
   "cell_type": "code",
   "execution_count": null,
   "metadata": {},
   "outputs": [],
   "source": [
    "import folium\n",
    "import pymongo\n",
    "import pandas as pd\n",
    "\n",
    "client = pymongo.MongoClient('localhost',27017)\n",
    "entries = list(client[\"assets\"][\"stations\"].find())"
   ]
  },
  {
   "cell_type": "code",
   "execution_count": null,
   "metadata": {},
   "outputs": [],
   "source": [
    "display(pd.DataFrame(entries))"
   ]
  },
  {
   "cell_type": "code",
   "execution_count": null,
   "metadata": {},
   "outputs": [],
   "source": [
    "mymap = folium.Map(location = [52.155499, 5.387740], zoom_start = 8, tiles = 'openstreetmap')\n",
    "folium.TileLayer('Stamen Terrain').add_to(mymap);folium.TileLayer('Stamen Toner').add_to(mymap);folium.TileLayer('Stamen Water Color').add_to(mymap);folium.TileLayer('cartodbpositron').add_to(mymap);folium.TileLayer('cartodbdark_matter').add_to(mymap);folium.LayerControl().add_to(mymap)\n",
    "for lat, lng, name in zip(df['latitude'], df['longitude'], df['name']): station_name = folium.Marker(location=[lat, lng],popup = name,); station_name.add_to(mymap)\n",
    "mymap"
   ]
  }
 ],
 "metadata": {
  "interpreter": {
   "hash": "aee8b7b246df8f9039afb4144a1f6fd8d2ca17a180786b69acc140d282b71a49"
  },
  "kernelspec": {
   "display_name": "Python 3.9.7 64-bit",
   "language": "python",
   "name": "python3"
  },
  "language_info": {
   "codemirror_mode": {
    "name": "ipython",
    "version": 3
   },
   "file_extension": ".py",
   "mimetype": "text/x-python",
   "name": "python",
   "nbconvert_exporter": "python",
   "pygments_lexer": "ipython3",
   "version": "3.9.9"
  },
  "orig_nbformat": 4
 },
 "nbformat": 4,
 "nbformat_minor": 2
}
